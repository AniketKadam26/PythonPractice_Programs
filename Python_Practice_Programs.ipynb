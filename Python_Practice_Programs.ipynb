{
 "cells": [
  {
   "cell_type": "code",
   "execution_count": 2,
   "id": "c951209f",
   "metadata": {},
   "outputs": [
    {
     "name": "stdout",
     "output_type": "stream",
     "text": [
      "Enter a number 5\n",
      "5 The entered number is prime\n"
     ]
    }
   ],
   "source": [
    "#1)WAP to check whether given number is prime or not\n",
    "n=int(input(\"Enter a number \"))\n",
    "if n==1:\n",
    "    print(n,\"The entered number is not prime\")\n",
    "    \n",
    "elif (n>1):\n",
    "    for i in range(2,n):\n",
    "        if n%i==0:\n",
    "            print(n,\"The entered number is not prime\")\n",
    "            break\n",
    "    else:\n",
    "        print(n,\"The entered number is prime\")\n",
    "else:\n",
    "    print(n,\"The entered number is not prime\")\n",
    "    \n",
    "    \n"
   ]
  },
  {
   "cell_type": "code",
   "execution_count": 4,
   "id": "363aafac",
   "metadata": {},
   "outputs": [
    {
     "name": "stdout",
     "output_type": "stream",
     "text": [
      "{1: 3, 2: 4, 3: 3, 6: 1}\n"
     ]
    }
   ],
   "source": [
    "#2)WAP to find out the following output i/p[1,2,3,3,3,2,2,2,1,1,6] o/p{1:3,2:4,3:3,6:1}\n",
    "l=[1,2,3,3,3,2,2,2,1,1,6]\n",
    "d={}\n",
    "for i in l:\n",
    "    d[i]=l.count(i)\n",
    "print(d)"
   ]
  },
  {
   "cell_type": "code",
   "execution_count": 12,
   "id": "19debd37",
   "metadata": {},
   "outputs": [
    {
     "name": "stdout",
     "output_type": "stream",
     "text": [
      "Enter a number 6\n",
      "1\n",
      "1\n",
      "2\n",
      "3\n",
      "5\n",
      "8\n"
     ]
    }
   ],
   "source": [
    "#3)WAP find out fibbonacci series\n",
    "def fib(n):\n",
    "    if n==1 or n==0:\n",
    "        return 1\n",
    "    else:\n",
    "        return (fib(n-1)+fib(n-2))\n",
    "n=int(input(\"Enter a number \"))\n",
    "if n==1:\n",
    "    print(1)\n",
    "else:   \n",
    "    for i in range(n):\n",
    "        print(fib(i))"
   ]
  },
  {
   "cell_type": "code",
   "execution_count": 13,
   "id": "3e652b06",
   "metadata": {},
   "outputs": [],
   "source": [
    "#4)WAP to findout factorial of a given number\n",
    "def fact(n):\n",
    "    if n==0 or n==1:\n",
    "        return 1\n",
    "    else:\n",
    "        return n*fact(n-1)"
   ]
  },
  {
   "cell_type": "code",
   "execution_count": 14,
   "id": "ca8bc479",
   "metadata": {},
   "outputs": [
    {
     "data": {
      "text/plain": [
       "120"
      ]
     },
     "execution_count": 14,
     "metadata": {},
     "output_type": "execute_result"
    }
   ],
   "source": [
    "fact(5)"
   ]
  },
  {
   "cell_type": "code",
   "execution_count": 15,
   "id": "04cdd440",
   "metadata": {},
   "outputs": [],
   "source": [
    "#5)WAP to findout summation of n natural number\n",
    "def sum(n):\n",
    "    if n==1:\n",
    "        return 1\n",
    "    else:\n",
    "        return n+sum(n-1)"
   ]
  },
  {
   "cell_type": "code",
   "execution_count": 16,
   "id": "d0ae298a",
   "metadata": {},
   "outputs": [
    {
     "data": {
      "text/plain": [
       "15"
      ]
     },
     "execution_count": 16,
     "metadata": {},
     "output_type": "execute_result"
    }
   ],
   "source": [
    "sum(5)"
   ]
  },
  {
   "cell_type": "code",
   "execution_count": 21,
   "id": "8223d3bf",
   "metadata": {},
   "outputs": [
    {
     "name": "stdout",
     "output_type": "stream",
     "text": [
      "~~~~~Well-Come To My Calender~~~~~\n",
      "\n",
      "Enter a month: feb\n",
      "28/29 days present in Feb\n"
     ]
    }
   ],
   "source": [
    "#6)WAP to show number of days present in month given by user i/p:jan o/p:31 i/p:feb o/p:28/29\n",
    "print(\"~~~~~Well-Come To My Calender~~~~~\")\n",
    "print()\n",
    "s=input(\"Enter a month: \")\n",
    "if s==\"jan\":\n",
    "    print(\"31 days present in Jan\")\n",
    "elif s==\"feb\":\n",
    "    print(\"28/29 days present in Feb\")\n",
    "elif s==\"march\":\n",
    "    print(\"30 days present in March\")\n",
    "elif s==\"april\":\n",
    "    print(\"31 days present in April\")\n",
    "elif s==\"may\":\n",
    "    print(\"30 days present in May\")\n",
    "elif s==\"jun\":\n",
    "    print(\"31 days present in Jun\")\n",
    "elif s==\"july\":\n",
    "    print(\"30 days present in July\")\n",
    "elif s==\"august\":\n",
    "    print(\"31 days present in August\")\n",
    "elif s==\"sep\":\n",
    "    print(\"30 days present in September\")\n",
    "elif s==\"oct\":\n",
    "    print(\"31 days present in Oct\")\n",
    "elif s==\"nov\":\n",
    "    print(\"30 days prenent in November\")\n",
    "else:\n",
    "    print(\"31 days present in December\")\n",
    "\n"
   ]
  },
  {
   "cell_type": "code",
   "execution_count": 26,
   "id": "f88b4d3b",
   "metadata": {},
   "outputs": [
    {
     "name": "stdout",
     "output_type": "stream",
     "text": [
      "[1, 9, 36, 49]\n"
     ]
    }
   ],
   "source": [
    "#7)[1,3,6,7] WAP to find out squres of element inside list using map function\n",
    "l=[1,3,6,7]\n",
    "d=list(map(lambda x:x**2,l))\n",
    "print(d)"
   ]
  },
  {
   "cell_type": "code",
   "execution_count": 46,
   "id": "b8811ee1",
   "metadata": {},
   "outputs": [
    {
     "name": "stdout",
     "output_type": "stream",
     "text": [
      "[2, 4, 6, 8, 10, 12, 14, 16, 18, 20, 22, 24, 26, 28, 30]\n",
      "[3, 5, 7, 9, 11, 13, 15, 17, 19, 21, 23, 25, 27, 29]\n"
     ]
    }
   ],
   "source": [
    "#8)WAP to generate number from 2 to 30  and generate two lists of even and odd using filter function\n",
    "a=list(range(2,31))\n",
    "even=list(filter(lambda x:x%2==0,a))\n",
    "odd=list(filter(lambda x:x%2!=0,a))\n",
    "print(even)\n",
    "print(odd)\n",
    "    "
   ]
  },
  {
   "cell_type": "code",
   "execution_count": 8,
   "id": "7e687cf5",
   "metadata": {},
   "outputs": [
    {
     "name": "stdout",
     "output_type": "stream",
     "text": [
      "Enter a Password: @Aniket2666\n",
      "--Valid Password--\n"
     ]
    }
   ],
   "source": [
    "#9)WAP to show whether password entered by user is valid or not.conditions-->it should be greater or equal to 8 and less than or equal to 16, should contain at least 1 special symbol.May have Upper,lower,or digit charecter\n",
    "p=input(\"Enter a Password: \")\n",
    "l=len(p)\n",
    "upper_case=0\n",
    "lower_case=0\n",
    "digit_case=0\n",
    "spcl_symbl=['~','!','@','#','$','%','^','&','*','(',')','_','-','+','=','{','}','[',']',':',';','\"','\"','<','>',',','.','?','/']\n",
    "sym=0\n",
    "if l>=8 and l<=16:\n",
    "    for x in p:\n",
    "        if x.isupper()==True:\n",
    "            upper_case +=1\n",
    "        if x.islower()==True:\n",
    "            lower_case +=1\n",
    "        if x in spcl_symbl:\n",
    "            sym=1\n",
    "        if x.isdigit()==True:\n",
    "            digit_case +=1\n",
    "    if upper_case>=1 and lower_case>=1 and digit_case>=1 and sym==1:\n",
    "        print(\"--Valid Password--\")\n",
    "        \n",
    "    else:\n",
    "        print(\"~~Invalid Password~~\")\n",
    "else:\n",
    "        print(\"~~Invalid Password~~\")\n",
    "        "
   ]
  },
  {
   "cell_type": "code",
   "execution_count": null,
   "id": "45af576d",
   "metadata": {},
   "outputs": [],
   "source": []
  },
  {
   "cell_type": "code",
   "execution_count": 51,
   "id": "f5deaba7",
   "metadata": {},
   "outputs": [
    {
     "name": "stdout",
     "output_type": "stream",
     "text": [
      "enter a numbner to generate a Table: 5\n",
      "5 * 1 = 5\n",
      "5 * 2 = 10\n",
      "5 * 3 = 15\n",
      "5 * 4 = 20\n",
      "5 * 5 = 25\n",
      "5 * 6 = 30\n",
      "5 * 7 = 35\n",
      "5 * 8 = 40\n",
      "5 * 9 = 45\n",
      "5 * 10 = 50\n"
     ]
    }
   ],
   "source": [
    "#10)WAP to generate table of given nuber using for and while loop\n",
    "n=int(input(\"enter a numbner to generate a Table: \"))\n",
    "for i in range(1,11):\n",
    "    print(n,\"*\",i,\"=\",n*i)\n"
   ]
  },
  {
   "cell_type": "code",
   "execution_count": 1,
   "id": "bab5207c",
   "metadata": {},
   "outputs": [
    {
     "name": "stdout",
     "output_type": "stream",
     "text": [
      "enter a numbner to generate a Table: 4\n",
      "4 * 1 = 4\n",
      "4 * 2 = 8\n",
      "4 * 3 = 12\n",
      "4 * 4 = 16\n",
      "4 * 5 = 20\n",
      "4 * 6 = 24\n",
      "4 * 7 = 28\n",
      "4 * 8 = 32\n",
      "4 * 9 = 36\n",
      "4 * 10 = 40\n"
     ]
    }
   ],
   "source": [
    "# 11)using while loop\n",
    "n=int(input(\"enter a numbner to generate a Table: \"))\n",
    "i=1\n",
    "while i<=10:\n",
    "    print(n,\"*\",i,\"=\",n*i)\n",
    "    i=i+1\n",
    "    "
   ]
  },
  {
   "cell_type": "code",
   "execution_count": 14,
   "id": "ece6026c",
   "metadata": {},
   "outputs": [
    {
     "name": "stdout",
     "output_type": "stream",
     "text": [
      "Enter a String: anikthh\n",
      "ikthh\n"
     ]
    }
   ],
   "source": [
    "#12)WAP to extract last 5 character of a string using slicing as well as loop. length of a string should be greater than or equal to 5\n",
    "s=input(\"Enter a String: \")\n",
    "t=s[-5::]\n",
    "print(t)\n",
    "if len(s)>=5:\n",
    "    for i in range(-5,0,-1):\n",
    "        print(s(i),end=\"\")\n",
    "else:\n",
    "    print(\"invalid string\")\n",
    "\n"
   ]
  },
  {
   "cell_type": "code",
   "execution_count": 27,
   "id": "e4c61506",
   "metadata": {},
   "outputs": [
    {
     "name": "stdout",
     "output_type": "stream",
     "text": [
      "Enter a String: lk\n",
      "invalid string\n"
     ]
    }
   ],
   "source": [
    "s=input(\"Enter a String: \")\n",
    "if len(s)>=5:\n",
    "    for i in range(-5,0):\n",
    "        print(s[i],end=\"\")\n",
    "else:\n",
    "    print(\"invalid string\")\n"
   ]
  },
  {
   "cell_type": "code",
   "execution_count": 20,
   "id": "58a96471",
   "metadata": {},
   "outputs": [
    {
     "name": "stdout",
     "output_type": "stream",
     "text": [
      "Enter a string: kadam\n",
      "kadam is not a pallindrome\n"
     ]
    }
   ],
   "source": [
    "#13)WAP to check whether given string is pallindrome or not\n",
    "s=input(\"Enter a string: \")\n",
    "if s[::1]==s[::-1]:\n",
    "    print(s,\"is Pallindrome\")\n",
    "else:\n",
    "    print(s,\"is not a pallindrome\")"
   ]
  },
  {
   "cell_type": "code",
   "execution_count": 23,
   "id": "2965e89b",
   "metadata": {},
   "outputs": [
    {
     "name": "stdout",
     "output_type": "stream",
     "text": [
      "['dog', 'god', 'odg']\n"
     ]
    }
   ],
   "source": [
    "#14)WAP to store anagrams of dog in list i/p:dog l=[\"dog\",\"god\",\"odg\",\"Hello\",\"Hi\"] o/p:[\"dog\",\"god\",\"odg\"]\n",
    "s=\"dog\"\n",
    "l=[\"dog\",\"god\",\"odg\",\"Hello\",\"Hi\"]\n",
    "e=[]\n",
    "t=list(s)\n",
    "for i in l:\n",
    "    j=list(i)\n",
    "    t.sort()\n",
    "    j.sort()\n",
    "    if t==j:\n",
    "        e.append(i)\n",
    "print(e)"
   ]
  },
  {
   "cell_type": "markdown",
   "id": "d92231c3",
   "metadata": {},
   "source": [
    "WAP to generate following \n",
    "*           *****\n",
    "**          ****\n",
    "***         ***\n",
    "****        **\n",
    "            *\n",
    "1          333\n",
    "22         22\n",
    "333        1\n",
    "4444\n",
    "55555"
   ]
  },
  {
   "cell_type": "code",
   "execution_count": 2,
   "id": "e8690c20",
   "metadata": {},
   "outputs": [
    {
     "name": "stdout",
     "output_type": "stream",
     "text": [
      "Enter a number 4\n",
      "*\n",
      "**\n",
      "***\n",
      "****\n"
     ]
    }
   ],
   "source": [
    "n=int(input(\"Enter a number \"))\n",
    "for i in range(1,n+1):\n",
    "    print(\"*\"*i)"
   ]
  },
  {
   "cell_type": "code",
   "execution_count": 3,
   "id": "451d2e02",
   "metadata": {},
   "outputs": [
    {
     "name": "stdout",
     "output_type": "stream",
     "text": [
      "Enter a number 5\n",
      "*****\n",
      "****\n",
      "***\n",
      "**\n",
      "*\n"
     ]
    }
   ],
   "source": [
    "n=int(input(\"Enter a number \"))\n",
    "for i in range(n,0,-1):\n",
    "    print(\"*\"*i)"
   ]
  },
  {
   "cell_type": "code",
   "execution_count": 4,
   "id": "0a6c94c2",
   "metadata": {},
   "outputs": [
    {
     "name": "stdout",
     "output_type": "stream",
     "text": [
      "Enter a number 5\n",
      "1 \n",
      "2 2 \n",
      "3 3 3 \n",
      "4 4 4 4 \n",
      "5 5 5 5 5 \n"
     ]
    }
   ],
   "source": [
    "n=int(input(\"Enter a number \"))\n",
    "for i in range(1,n+1):\n",
    "    for j in range(i):\n",
    "        print(i,end=\" \")\n",
    "    print()"
   ]
  },
  {
   "cell_type": "code",
   "execution_count": 5,
   "id": "fcf3077f",
   "metadata": {},
   "outputs": [
    {
     "name": "stdout",
     "output_type": "stream",
     "text": [
      "Enter a number 3\n",
      "3 3 3 \n",
      "2 2 \n",
      "1 \n"
     ]
    }
   ],
   "source": [
    "n=int(input(\"Enter a number \"))\n",
    "for i in range(n,0,-1):\n",
    "    for j in range(i):\n",
    "        print(i,end=\" \")\n",
    "    print()"
   ]
  },
  {
   "cell_type": "code",
   "execution_count": null,
   "id": "4e597ae1",
   "metadata": {},
   "outputs": [],
   "source": []
  }
 ],
 "metadata": {
  "kernelspec": {
   "display_name": "Python 3 (ipykernel)",
   "language": "python",
   "name": "python3"
  },
  "language_info": {
   "codemirror_mode": {
    "name": "ipython",
    "version": 3
   },
   "file_extension": ".py",
   "mimetype": "text/x-python",
   "name": "python",
   "nbconvert_exporter": "python",
   "pygments_lexer": "ipython3",
   "version": "3.11.5"
  }
 },
 "nbformat": 4,
 "nbformat_minor": 5
}
